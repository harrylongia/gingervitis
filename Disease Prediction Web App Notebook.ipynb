{
 "cells": [
  {
   "cell_type": "code",
   "execution_count": null,
   "id": "2b2fe758-4ba7-4923-bbca-7092528949f2",
   "metadata": {},
   "outputs": [],
   "source": [
    "# Importing libraries\n",
    "import numpy as np\n",
    "import pandas as pd\n",
    "import matplotlib.pyplot as plt\n",
    "import seaborn as sns\n",
    "from sklearn.preprocessing import LabelEncoder\n",
    "from sklearn.model_selection import train_test_split, cross_val_score\n",
    "from sklearn.svm import SVC\n",
    "from sklearn.naive_bayes import GaussianNB\n",
    "from sklearn.ensemble import RandomForestClassifier\n",
    "from sklearn.metrics import accuracy_score, confusion_matrix\n",
    "from collections import Counter\n",
    "from scipy.stats import mode\n",
    "\n",
    "%matplotlib inline"
   ]
  },
  {
   "cell_type": "code",
   "execution_count": null,
   "id": "d432ca91",
   "metadata": {},
   "outputs": [],
   "source": [
    "# Reading training dataset\n",
    "df = pd.read_csv('./dataset/Training.csv')\n",
    "\n",
    "# Checking whether the dataset is balanced or not\n",
    "df[\"prognosis\"].value_counts()"
   ]
  },
  {
   "cell_type": "code",
   "execution_count": null,
   "id": "2efacb4b",
   "metadata": {},
   "outputs": [],
   "source": [
    "# Visualizing the dataset\n",
    "df.head()\n",
    "\n",
    "# Removing the last column as it's useless\n",
    "# df.drop('Unnamed: 133', axis=1, inplace=True)"
   ]
  },
  {
   "cell_type": "code",
   "execution_count": null,
   "id": "1e9d3d22",
   "metadata": {},
   "outputs": [],
   "source": [
    "# Now our data is clean & we are good to go : )\n",
    "df.head()"
   ]
  },
  {
   "cell_type": "code",
   "execution_count": null,
   "id": "8351e9bd",
   "metadata": {},
   "outputs": [],
   "source": [
    "for i in df.columns:\n",
    "    print(i)"
   ]
  },
  {
   "cell_type": "code",
   "execution_count": null,
   "id": "f00b04c8",
   "metadata": {},
   "outputs": [],
   "source": [
    "disease_counts = df[\"prognosis\"].value_counts()\n",
    "temp_df = pd.DataFrame({\n",
    "    \"Disease\": disease_counts.index,\n",
    "    \"Counts\": disease_counts.values\n",
    "})\n",
    "\n",
    "plt.figure(figsize = (20,8))\n",
    "sns.barplot(x = \"Disease\", y = \"Counts\", data = temp_df)\n",
    "plt.xticks(rotation=90)\n",
    "plt.show()"
   ]
  },
  {
   "cell_type": "code",
   "execution_count": null,
   "id": "5e787eca",
   "metadata": {},
   "outputs": [],
   "source": [
    "# Encoding the target value(object) into numerical value via LabelEncoder() \n",
    "encoder = LabelEncoder()\n",
    "df[\"prognosis\"] = encoder.fit_transform(df[\"prognosis\"])"
   ]
  },
  {
   "cell_type": "code",
   "execution_count": null,
   "id": "3ac2c767",
   "metadata": {},
   "outputs": [],
   "source": [
    "# Spliting Data into X and Y\n",
    "X = df.drop('prognosis', axis=1)\n",
    "y = df['prognosis']"
   ]
  },
  {
   "cell_type": "code",
   "execution_count": null,
   "id": "c65a5e50",
   "metadata": {},
   "outputs": [],
   "source": [
    "X"
   ]
  },
  {
   "cell_type": "code",
   "execution_count": null,
   "id": "4f4d4354",
   "metadata": {},
   "outputs": [],
   "source": [
    "y"
   ]
  },
  {
   "cell_type": "code",
   "execution_count": null,
   "id": "963c3ee1",
   "metadata": {},
   "outputs": [],
   "source": [
    "X.shape, y.shape"
   ]
  },
  {
   "cell_type": "code",
   "execution_count": null,
   "id": "0af0a79b",
   "metadata": {},
   "outputs": [],
   "source": [
    "# Splitting Data into training and test\n",
    "X_train, X_test, y_train, y_test =train_test_split(\n",
    "X, y, test_size = 0.2, random_state = 42)\n",
    "\n",
    "print(f'Train: {X_train.shape}, {y_train.shape}')\n",
    "print(f'Test: {X_test.shape}, {y_test.shape}')"
   ]
  },
  {
   "cell_type": "code",
   "execution_count": null,
   "id": "0a68bb00",
   "metadata": {},
   "outputs": [],
   "source": [
    "# Defining scoring metric for k-fold cross validation\n",
    "def cv_scoring(estimator, X, y):\n",
    "    return accuracy_score(y, estimator.predict(X))\n",
    "\n",
    "# Initializing Models\n",
    "models = {\n",
    "    \"SVC\":SVC(),\n",
    "    \"Gaussian NB\":GaussianNB(),\n",
    "    \"Random Forest\":RandomForestClassifier(random_state=18)\n",
    "}\n",
    "\n",
    "# Producing cross validation score for the models\n",
    "for model_name in models:\n",
    "    model = models[model_name]\n",
    "    scores = cross_val_score(model, X, y, cv = 10,\n",
    "                            n_jobs = -1,\n",
    "                            scoring = cv_scoring)\n",
    "    print(\"--\"*30)\n",
    "    print(model_name)\n",
    "    print(f\"Scores: {scores}\")\n",
    "    print(f\"Mean Score: {np.mean(scores)}\")"
   ]
  },
  {
   "cell_type": "code",
   "execution_count": null,
   "id": "af0d6a7c",
   "metadata": {},
   "outputs": [],
   "source": [
    "# Training and testing SVM Classifier\n",
    "svm_model = SVC()\n",
    "svm_model.fit(X_train, y_train)\n",
    "preds = svm_model.predict(X_test)\n",
    "\n",
    "print(f\"Accuracy on train data by SVM Classifier\\\n",
    ": {accuracy_score(y_train, svm_model.predict(X_train))*100}\")\n",
    "\n",
    "print(f\"Accuracy on test data by SVM Classifier\\\n",
    ": {accuracy_score(y_test, preds)*100}\")\n",
    "cf_matrix = confusion_matrix(y_test, preds)\n",
    "plt.figure(figsize=(12,8))\n",
    "sns.heatmap(cf_matrix, annot=True)\n",
    "plt.title(\"Confusion Matrix for SVM Classifier on Test Data\")\n",
    "plt.show()\n",
    "\n",
    "# Training and testing Naive Bayes Classifier\n",
    "nb_model = GaussianNB()\n",
    "nb_model.fit(X_train, y_train)\n",
    "preds = nb_model.predict(X_test)\n",
    "print(f\"Accuracy on train data by Naive Bayes Classifier\\\n",
    ": {accuracy_score(y_train, nb_model.predict(X_train))*100}\")\n",
    "\n",
    "print(f\"Accuracy on test data by Naive Bayes Classifier\\\n",
    ": {accuracy_score(y_test, preds)*100}\")\n",
    "cf_matrix = confusion_matrix(y_test, preds)\n",
    "plt.figure(figsize=(12,8))\n",
    "sns.heatmap(cf_matrix, annot=True)\n",
    "plt.title(\"Confusion Matrix for Naive Bayes Classifier on Test Data\")\n",
    "plt.show()\n",
    "\n",
    "# Training and testing Random Forest Classifier\n",
    "rf_model = RandomForestClassifier(random_state=18)\n",
    "rf_model.fit(X_train, y_train)\n",
    "preds = rf_model.predict(X_test)\n",
    "print(f\"Accuracy on train data by Random Forest Classifier\\\n",
    ": {accuracy_score(y_train, rf_model.predict(X_train))*100}\")\n",
    "\n",
    "print(f\"Accuracy on test data by Random Forest Classifier\\\n",
    ": {accuracy_score(y_test, preds)*100}\")\n",
    "\n",
    "cf_matrix = confusion_matrix(y_test, preds)\n",
    "plt.figure(figsize=(12,8))\n",
    "sns.heatmap(cf_matrix, annot=True)\n",
    "plt.title(\"Confusion Matrix for Random Forest Classifier on Test Data\")\n",
    "plt.show()"
   ]
  },
  {
   "cell_type": "code",
   "execution_count": null,
   "id": "85a14d18",
   "metadata": {},
   "outputs": [],
   "source": [
    "# Training the models on whole data\n",
    "final_svm_model = SVC()\n",
    "final_nb_model = GaussianNB()\n",
    "final_rf_model = RandomForestClassifier(random_state=18)\n",
    "final_svm_model.fit(X, y)\n",
    "final_nb_model.fit(X, y)\n",
    "final_rf_model.fit(X, y)\n",
    "\n",
    "# Reading the test data\n",
    "test_data = pd.read_csv(\"./dataset/Testing.csv\").dropna(axis=1)\n",
    "\n",
    "test_X = test_data.iloc[:, :-1]\n",
    "test_Y = encoder.transform(test_data.iloc[:, -1])\n",
    "\n",
    "# Making prediction by take mode of predictions\n",
    "# made by all the classifiers\n",
    "svm_preds = final_svm_model.predict(test_X)\n",
    "nb_preds = final_nb_model.predict(test_X)\n",
    "rf_preds = final_rf_model.predict(test_X)\n",
    "\n",
    "final_preds = final_preds = [mode([i,j,k], keepdims=True)[0][0] for i,j,k in \n",
    "zip(svm_preds, nb_preds, rf_preds)]\n",
    "\n",
    "print(f\"Accuracy on Test dataset by the combined model\\\n",
    ": {accuracy_score(test_Y, final_preds)*100}\")\n",
    "\n",
    "cf_matrix = confusion_matrix(test_Y, final_preds)\n",
    "plt.figure(figsize=(12,8))\n",
    "\n",
    "sns.heatmap(cf_matrix, annot = True)\n",
    "plt.title(\"Confusion Matrix for Combined Model on Test Dataset\")\n",
    "plt.show()"
   ]
  },
  {
   "cell_type": "markdown",
   "id": "9825f9be",
   "metadata": {},
   "source": []
  },
  {
   "cell_type": "code",
   "execution_count": null,
   "id": "bf8c768b",
   "metadata": {},
   "outputs": [],
   "source": [
    "symptoms = X.columns.values\n",
    "\n",
    "# Creating a symptom index dictionary to encode the\n",
    "# input symptoms into numerical form\n",
    "symptom_index = {}\n",
    "for index, value in enumerate(symptoms):\n",
    "\tsymptom = \" \".join([i.capitalize() for i in value.split(\"_\")])\n",
    "\tsymptom_index[symptom] = index\n",
    "\n",
    "data_dict = {\n",
    "\t\"symptom_index\":symptom_index,\n",
    "\t\"predictions_classes\":encoder.classes_\n",
    "}\n",
    "\n",
    "#finding mode of all 3 models\n",
    "def find_mode_or_nb(string_list): # nb is supposed to have max amount of good result\n",
    "    counts = Counter(string_list)\n",
    "    max_frequency = max(counts.values())\n",
    "    modes = [string for string, count in counts.items() if count == max_frequency]\n",
    "\n",
    "    return modes if len(modes)<1 else string_list[1]; \n",
    "\n",
    "# Defining the Function\n",
    "# Input: string containing symptoms separated by commas\n",
    "# Output: Generated predictions by models\n",
    "def predictDisease(symptoms):\n",
    "    # symptoms = symptoms.split(\",\")\n",
    "\n",
    "    # Creating input data for the models\n",
    "    input_data = [0] * len(data_dict[\"symptom_index\"])\n",
    "    for symptom in symptoms:\n",
    "        index = data_dict[\"symptom_index\"].get(symptom)\n",
    "        if index is not None:\n",
    "            input_data[index] = 5\n",
    "        else:\n",
    "            print(f\"Warning: Symptom '{symptom}' is not valid.\")\n",
    "\n",
    "    # Reshaping the input data and converting it\n",
    "    # into a suitable format for model predictions\n",
    "    input_data = np.array(input_data).reshape(1, -1)\n",
    "    print(data_dict[\"symptom_index\"].keys())\n",
    "\n",
    "    # Generating individual outputs\n",
    "    rf_prediction = final_rf_model.predict(input_data)[0]\n",
    "    nb_prediction = final_nb_model.predict(input_data)[0]\n",
    "    svm_prediction = final_svm_model.predict(input_data)[0]\n",
    "    \n",
    "\n",
    "    # Making the final prediction by taking the mode of all predictions\n",
    "    predictions = [data_dict[\"predictions_classes\"][rf_prediction],\n",
    "                   data_dict[\"predictions_classes\"][nb_prediction],\n",
    "                   data_dict[\"predictions_classes\"][svm_prediction]]\n",
    "    \n",
    "    final_prediction = find_mode_or_nb(predictions)\n",
    "\n",
    "\n",
    "    predictions = {\n",
    "        \"rf_model_prediction\": data_dict[\"predictions_classes\"][rf_prediction],\n",
    "        \"naive_bayes_prediction\": data_dict[\"predictions_classes\"][nb_prediction],\n",
    "        \"svm_model_prediction\": data_dict[\"predictions_classes\"][svm_prediction],\n",
    "        \"final_prediction\": final_prediction\n",
    "    }\n",
    "    return predictions\n",
    "\n",
    "# Testing the function\n",
    "# predictDisease( ['Painful Urination', 'Frequent Urination', 'Foul Smell Of urine', 'Abdominal Pain', 'Blood In Urine'])\n",
    "\n",
    "print(data_dict)"
   ]
  },
  {
   "cell_type": "code",
   "execution_count": null,
   "id": "3be15b8f",
   "metadata": {},
   "outputs": [],
   "source": [
    "# Saving Model using Pickle\n",
    "import pickle\n",
    "\n",
    "# Saving model \n",
    "pickle.dump(final_svm_model, open('./created_models/saved_final_svm_model.pkl', 'wb'))\n",
    "pickle.dump(final_nb_model, open('./created_models/saved_final_nb_model.pkl', 'wb'))\n",
    "pickle.dump(final_rf_model, open('./created_models/saved_final_rf_model.pkl', 'wb'))"
   ]
  },
  {
   "cell_type": "code",
   "execution_count": null,
   "id": "846bf409",
   "metadata": {},
   "outputs": [],
   "source": [
    "# Loading Model From Pickle \n",
    "final_svm_model = pickle.load(open('./created_models/saved_final_svm_model.pkl', 'rb'))\n",
    "print(final_svm_model.score(X_test, y_test)*100, '%')"
   ]
  }
 ],
 "metadata": {
  "kernelspec": {
   "display_name": "venv",
   "language": "python",
   "name": "python3"
  },
  "language_info": {
   "codemirror_mode": {
    "name": "ipython",
    "version": 3
   },
   "file_extension": ".py",
   "mimetype": "text/x-python",
   "name": "python",
   "nbconvert_exporter": "python",
   "pygments_lexer": "ipython3",
   "version": "3.11.4"
  }
 },
 "nbformat": 4,
 "nbformat_minor": 5
}
